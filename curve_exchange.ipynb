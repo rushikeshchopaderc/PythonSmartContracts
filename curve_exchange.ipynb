{
 "cells": [
  {
   "cell_type": "code",
   "execution_count": null,
   "metadata": {
    "colab": {
     "base_uri": "https://localhost:8080/",
     "height": 17
    },
    "id": "E_7MdPtCKlDQ",
    "outputId": "a2de56d0-c286-4d1f-baa1-d1126c606a8e"
   },
   "outputs": [],
   "source": [
    "boa.set_browser_env()\n",
    "boa.env.set_chain_id(42161)  # Arbitrum"
   ]
  },
  {
   "cell_type": "code",
   "execution_count": null,
   "metadata": {
    "id": "r_gO-NPkIm18"
   },
   "outputs": [],
   "source": [
    "import boa\n",
    "from google.colab import userdata\n",
    "%reload_ext boa.ipython"
   ]
  },
  {
   "cell_type": "markdown",
   "metadata": {
    "collapsed": false,
    "jupyter": {
     "outputs_hidden": false
    }
   },
   "source": [
    "Get the Curve Tricrypto AMM contract:"
   ]
  },
  {
   "cell_type": "code",
   "execution_count": null,
   "metadata": {
    "colab": {
     "base_uri": "https://localhost:8080/",
     "height": 34
    },
    "id": "AG91C-vTI4WO",
    "outputId": "06d2fc71-353c-4c56-e1ed-0a2cc03acbf5"
   },
   "outputs": [],
   "source": [
    "curve_tricrv_amm = boa.from_etherscan(\n",
    "    \"0x82670f35306253222f8a165869b28c64739ac62e\",\n",
    "    name=\"TriCRV\",\n",
    "    uri=\"https://api.arbiscan.io/api\",\n",
    "    api_key=userdata.get(\"ARBISCAN_API_KEY\")\n",
    ")\n",
    "curve_tricrv_amm"
   ]
  },
  {
   "cell_type": "code",
   "execution_count": null,
   "metadata": {
    "colab": {
     "base_uri": "https://localhost:8080/",
     "height": 34
    },
    "id": "I-fdorGGKGo1",
    "outputId": "b05e53eb-6765-4681-fb8d-249c973df2e8"
   },
   "outputs": [],
   "source": [
    "available_eth = boa.env.get_balance(boa.env.eoa)\n",
    "available_eth"
   ]
  },
  {
   "cell_type": "code",
   "execution_count": null,
   "metadata": {
    "colab": {
     "base_uri": "https://localhost:8080/"
    },
    "id": "yfdEfvxvLgda",
    "outputId": "3db08733-c7e4-4276-ed67-e431d6639456"
   },
   "outputs": [],
   "source": [
    "amount_eth_in = available_eth // 10\n",
    "amount_eth_in"
   ]
  },
  {
   "cell_type": "markdown",
   "metadata": {
    "id": "S-w2YXnKULeH"
   },
   "source": [
    "Calculate expected crvUSD amount the AMM would return for selling 1/10th of the ETH balance in the wallet:"
   ]
  },
  {
   "cell_type": "code",
   "execution_count": null,
   "metadata": {
    "colab": {
     "base_uri": "https://localhost:8080/",
     "height": 34
    },
    "id": "u2HI473aLK4-",
    "outputId": "481ddd9c-17d3-494c-c1fe-b6386db61262"
   },
   "outputs": [],
   "source": [
    "expected_out = curve_tricrv_amm.get_dy(2, 0, amount_eth_in)\n",
    "expected_out"
   ]
  },
  {
   "cell_type": "markdown",
   "metadata": {
    "id": "u3Xuy_KjUTFN"
   },
   "source": [
    "Execute the Swap. No approvals needed since this involves a native token transfer:"
   ]
  },
  {
   "cell_type": "code",
   "execution_count": null,
   "metadata": {
    "colab": {
     "base_uri": "https://localhost:8080/",
     "height": 124
    },
    "id": "MhpiZifqMBwB",
    "outputId": "6aa83aea-71c0-4fd6-eff2-db6bbba98250"
   },
   "outputs": [],
   "source": [
    "actual_out = curve_tricrv_amm.exchange_underlying(2, 0, amount_eth_in, int(expected_out*0.99), boa.env.eoa, value=amount_eth_in)\n",
    "actual_out"
   ]
  }
 ],
 "metadata": {
  "colab": {
   "provenance": []
  },
  "kernelspec": {
   "display_name": "Python 3 (ipykernel)",
   "language": "python",
   "name": "python3"
  },
  "language_info": {
   "codemirror_mode": {
    "name": "ipython",
    "version": 3
   },
   "file_extension": ".py",
   "mimetype": "text/x-python",
   "name": "python",
   "nbconvert_exporter": "python",
   "pygments_lexer": "ipython3",
   "version": "3.11.6"
  }
 },
 "nbformat": 4,
 "nbformat_minor": 4
}
