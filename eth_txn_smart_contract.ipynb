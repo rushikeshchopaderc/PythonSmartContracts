{
 "cells": [
  {
   "cell_type": "code",
   "execution_count": 1,
   "metadata": {},
   "outputs": [
    {
     "name": "stderr",
     "output_type": "stream",
     "text": [
      "/Users/rushi/Library/Python/3.9/lib/python/site-packages/urllib3/__init__.py:35: NotOpenSSLWarning: urllib3 v2 only supports OpenSSL 1.1.1+, currently the 'ssl' module is compiled with 'LibreSSL 2.8.3'. See: https://github.com/urllib3/urllib3/issues/3020\n",
      "  warnings.warn(\n"
     ]
    }
   ],
   "source": [
    "# !pip3 install web3\n",
    "# Importing the libraries\n",
    "from web3 import Web3"
   ]
  },
  {
   "cell_type": "code",
   "execution_count": 2,
   "metadata": {},
   "outputs": [],
   "source": [
    "# Connecting with Ganache Test Network\n",
    "ganache_url=\"HTTP://127.0.0.1:7545\"\n",
    "web3_obj=Web3(Web3.HTTPProvider(ganache_url))"
   ]
  },
  {
   "cell_type": "code",
   "execution_count": 11,
   "metadata": {},
   "outputs": [],
   "source": [
    "# Sender and Receiver Address Details:\n",
    "sender_add='0x7508E4669Fee52523e2Fb31eb2a584306bBFf501'\n",
    "private_key='0x2d4224b07b3f5daa1a7971d54185d8a87a61c66b7e4fed569611c378c089b76a'\n",
    "receiver_add='0x9f745177fdfa8c4e5b9AA0c7b2C14334313361B8'"
   ]
  },
  {
   "cell_type": "code",
   "execution_count": 15,
   "metadata": {},
   "outputs": [
    {
     "name": "stdout",
     "output_type": "stream",
     "text": [
      "0x48829bb1cdde594eef19e9a16a35000581e4ac9138cc82c60609ae5afb352621\n"
     ]
    }
   ],
   "source": [
    "# Get the nonce (Prevents multiple transactions)\n",
    "nonce=web3_obj.eth.get_transaction_count(sender_add)\n",
    "\n",
    "# Build a transaction. This is actually abi- Application binary interface (a JSON file that defines the interface of a smart contract:\n",
    "# like 1) Function dignatures, 2)event signatures and 3)variable types) Purpose of abi is to convert the python code to machine readable bytecode.\n",
    "txn={'nonce':nonce, 'to':receiver_add, 'value':web3_obj.to_wei(99,'ether'), 'gas':200000, 'gasPrice': web3_obj.to_wei('50','gwei')}\n",
    "\n",
    "# Sign a transaction\n",
    "signed_txn=web3_obj.eth.account.sign_transaction(txn,private_key)\n",
    "\n",
    "# Send a transaction\n",
    "txn_hash=web3_obj.eth.send_raw_transaction(signed_txn.raw_transaction)\n",
    "\n",
    "# Get the transaction hash\n",
    "print(web3_obj.to_hex(txn_hash))\n"
   ]
  },
  {
   "cell_type": "code",
   "execution_count": 20,
   "metadata": {},
   "outputs": [
    {
     "data": {
      "text/plain": [
       "4"
      ]
     },
     "execution_count": 20,
     "metadata": {},
     "output_type": "execute_result"
    }
   ],
   "source": [
    "nonce"
   ]
  },
  {
   "cell_type": "code",
   "execution_count": null,
   "metadata": {},
   "outputs": [],
   "source": []
  },
  {
   "cell_type": "code",
   "execution_count": null,
   "metadata": {},
   "outputs": [],
   "source": []
  }
 ],
 "metadata": {
  "kernelspec": {
   "display_name": "Python 3",
   "language": "python",
   "name": "python3"
  },
  "language_info": {
   "codemirror_mode": {
    "name": "ipython",
    "version": 3
   },
   "file_extension": ".py",
   "mimetype": "text/x-python",
   "name": "python",
   "nbconvert_exporter": "python",
   "pygments_lexer": "ipython3",
   "version": "3.9.6"
  }
 },
 "nbformat": 4,
 "nbformat_minor": 2
}
