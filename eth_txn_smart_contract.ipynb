{
 "cells": [
  {
   "cell_type": "code",
   "execution_count": 1,
   "metadata": {},
   "outputs": [
    {
     "name": "stderr",
     "output_type": "stream",
     "text": [
      "/Users/rushi/Desktop/BlockChain/General/.venv/lib/python3.9/site-packages/urllib3/__init__.py:35: NotOpenSSLWarning: urllib3 v2 only supports OpenSSL 1.1.1+, currently the 'ssl' module is compiled with 'LibreSSL 2.8.3'. See: https://github.com/urllib3/urllib3/issues/3020\n",
      "  warnings.warn(\n"
     ]
    }
   ],
   "source": [
    "# !pip3 install web3\n",
    "# Importing the libraries\n",
    "from web3 import Web3"
   ]
  },
  {
   "cell_type": "code",
   "execution_count": 2,
   "metadata": {},
   "outputs": [],
   "source": [
    "# Connecting with Ganache Test Network\n",
    "ganache_url=\"HTTP://127.0.0.1:7545\"\n",
    "web3_obj=Web3(Web3.HTTPProvider(ganache_url))"
   ]
  },
  {
   "cell_type": "code",
   "execution_count": 3,
   "metadata": {},
   "outputs": [],
   "source": [
    "# Sender and Receiver Address Details:\n",
    "sender_add='0xd8748E84380a29e5b95Ab9669d84E305109685CE'\n",
    "private_key='0xa93a5d88b3d6473ab9a4ab12f6b11ed33af6671b857d56362cfb19f4c38b1af8'\n",
    "receiver_add='0x167468C610623331A4a705f8Fe442eE5c53D5D7f'"
   ]
  },
  {
   "cell_type": "code",
   "execution_count": 21,
   "metadata": {},
   "outputs": [
    {
     "name": "stdout",
     "output_type": "stream",
     "text": [
      "0x05ccf8bbf4a9cc787b2b1a3c45f143ae2aae5c577193a73ca88cde8e41a3913d\n"
     ]
    }
   ],
   "source": [
    "# Get the nonce (Prevents multiple transactions)\n",
    "nonce=web3_obj.eth.get_transaction_count(sender_add)\n",
    "\n",
    "# Build a transaction. This is actually abi- Application binary interface (a JSON file that defines the interface of a smart contract:\n",
    "# like 1) Function dignatures, 2)event signatures and 3)variable types) Purpose of abi is to convert the python code to machine readable bytecode.\n",
    "txn={'nonce':nonce, 'to':receiver_add, 'value':web3_obj.to_wei(1,'ether'), 'gas':200000, 'gasPrice': web3_obj.to_wei('50','gwei')}\n",
    "\n",
    "# Sign a transaction\n",
    "signed_txn=web3_obj.eth.account.sign_transaction(txn,private_key)\n",
    "\n",
    "# Send a transaction\n",
    "txn_hash=web3_obj.eth.send_raw_transaction(signed_txn.raw_transaction)\n",
    "\n",
    "# Get the transaction hash\n",
    "print(web3_obj.to_hex(txn_hash))\n"
   ]
  },
  {
   "cell_type": "code",
   "execution_count": 20,
   "metadata": {},
   "outputs": [
    {
     "data": {
      "text/plain": [
       "4"
      ]
     },
     "execution_count": 20,
     "metadata": {},
     "output_type": "execute_result"
    }
   ],
   "source": [
    "nonce"
   ]
  },
  {
   "cell_type": "code",
   "execution_count": null,
   "metadata": {},
   "outputs": [],
   "source": []
  },
  {
   "cell_type": "code",
   "execution_count": null,
   "metadata": {},
   "outputs": [],
   "source": []
  }
 ],
 "metadata": {
  "kernelspec": {
   "display_name": ".venv",
   "language": "python",
   "name": "python3"
  },
  "language_info": {
   "codemirror_mode": {
    "name": "ipython",
    "version": 3
   },
   "file_extension": ".py",
   "mimetype": "text/x-python",
   "name": "python",
   "nbconvert_exporter": "python",
   "pygments_lexer": "ipython3",
   "version": "3.9.6"
  }
 },
 "nbformat": 4,
 "nbformat_minor": 2
}
